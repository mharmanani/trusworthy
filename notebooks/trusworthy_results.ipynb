{
 "cells": [
  {
   "cell_type": "markdown",
   "metadata": {},
   "source": [
    "# TRUSWorthy - Results"
   ]
  },
  {
   "cell_type": "code",
   "execution_count": 2,
   "metadata": {},
   "outputs": [],
   "source": [
    "import numpy as np\n",
    "import matplotlib.pyplot as plt\n",
    "import seaborn as sns\n",
    "import pandas as pd\n",
    "\n",
    "from sklearn.metrics import brier_score_loss, f1_score, roc_auc_score, roc_curve, auc, precision_recall_curve, average_precision_score"
   ]
  },
  {
   "cell_type": "markdown",
   "metadata": {},
   "source": [
    "## Make Test and Val. DataFrames"
   ]
  },
  {
   "cell_type": "code",
   "execution_count": 10,
   "metadata": {},
   "outputs": [
    {
     "name": "stdout",
     "output_type": "stream",
     "text": [
      "['881', '292', '602', '659', '42', '81', '126', '321', '5', '512']\n"
     ]
    }
   ],
   "source": [
    "#seeds = [5, 81, 126, 602, 42, 881, 659, 321, 292]\n",
    "#seeds = [881, 602, 126, 292, 42]\n",
    "import os; seeds=os.listdir('trusworthy')\n",
    "print(seeds)\n",
    "FOLDS = 5\n",
    "df_test = pd.DataFrame()\n",
    "df_val = pd.DataFrame()\n",
    "for seed in seeds:\n",
    "    for fold in range(FOLDS):\n",
    "        dft_t = pd.read_csv(f'trusworthy/{seed}/fold{fold}/test.csv') \n",
    "        dft_t['fold'] = dft_t.y.apply(lambda x: fold)\n",
    "        dft_t['seed'] = dft_t.y.apply(lambda x: seed)\n",
    "        \n",
    "        dft_v = pd.read_csv(f'trusworthy/{seed}/fold{fold}/val.csv')\n",
    "        dft_v['fold'] = dft_v.y.apply(lambda x: fold)\n",
    "        dft_v['seed'] = dft_v.y.apply(lambda x: seed)\n",
    "\n",
    "        df_test = df_test.append(dft_t, ignore_index=True)\n",
    "        df_val = df_val.append(dft_v, ignore_index=True)"
   ]
  },
  {
   "cell_type": "code",
   "execution_count": 11,
   "metadata": {},
   "outputs": [],
   "source": [
    "df_test['patient'] = df_test.core_specifier.apply(lambda x: x.split('_')[0])\n",
    "df_val['patient'] = df_val.core_specifier.apply(lambda x: x.split('_')[0])"
   ]
  },
  {
   "cell_type": "markdown",
   "metadata": {},
   "source": [
    "## Calculate Test Metrics Per Fold"
   ]
  },
  {
   "cell_type": "code",
   "execution_count": 12,
   "metadata": {},
   "outputs": [
    {
     "name": "stdout",
     "output_type": "stream",
     "text": [
      "seed=881 AUC:76.4+-2.0 BAC:68.30000000000001+-3.1 Sens:59.699999999999996+-14.2 Spec:77.0+-9.700000000000001\n",
      "seed=292 AUC:76.2+-2.1999999999999997 BAC:68.5+-1.5 Sens:71.8+-8.200000000000001 Spec:65.3+-11.0\n",
      "seed=602 AUC:77.4+-2.1 BAC:69.5+-3.5999999999999996 Sens:67.0+-18.9 Spec:72.0+-12.5\n",
      "seed=659 AUC:76.6+-1.2 BAC:64.9+-3.3000000000000003 Sens:60.6+-24.7 Spec:69.19999999999999+-24.3\n",
      "seed=42 AUC:76.1+-3.5000000000000004 BAC:67.5+-5.6000000000000005 Sens:64.2+-25.1 Spec:70.8+-16.5\n",
      "seed=81 AUC:76.0+-1.3 BAC:68.5+-2.1 Sens:68.7+-12.6 Spec:68.30000000000001+-14.299999999999999\n",
      "seed=126 AUC:77.3+-1.7999999999999998 BAC:67.2+-4.7 Sens:64.60000000000001+-23.0 Spec:69.69999999999999+-18.6\n",
      "seed=321 AUC:75.4+-2.3 BAC:66.0+-3.9 Sens:65.10000000000001+-24.6 Spec:66.9+-19.8\n",
      "seed=5 AUC:76.1+-1.5 BAC:67.0+-3.9 Sens:67.10000000000001+-21.0 Spec:66.9+-19.3\n",
      "seed=512 AUC:76.0+-3.5999999999999996 BAC:64.9+-4.2 Sens:80.30000000000001+-12.5 Spec:49.5+-18.6\n"
     ]
    }
   ],
   "source": [
    "# metrics for each fold for each seed\n",
    "from sklearn.metrics import roc_auc_score, balanced_accuracy_score, f1_score, precision_score, recall_score, confusion_matrix, brier_score_loss\n",
    "\n",
    "for seed in seeds:\n",
    "    aucs = []\n",
    "    baccs = []\n",
    "    senss = []\n",
    "    specs = []\n",
    "    for fold in range(FOLDS):\n",
    "        dfc = df_test[df_test.seed == seed]\n",
    "        dfc = dfc[dfc.fold == fold]\n",
    "        aucs.append(roc_auc_score(dfc.y, dfc.prob_1))\n",
    "        senss.append(recall_score(dfc.y, dfc.prob_1.round()))\n",
    "        specs.append(recall_score(dfc.y, dfc.prob_1.round(), pos_label=0))\n",
    "        baccs.append(balanced_accuracy_score(dfc.y, dfc.prob_1.round()))\n",
    "\n",
    "    avgauc = 100*round(np.mean(aucs), 3)\n",
    "    stdauc = 100*round(np.std(aucs), 3)\n",
    "    avgbac = 100*round(np.mean(baccs), 3)\n",
    "    stdbac = 100*round(np.std(baccs), 3)\n",
    "    avgsens = 100*round(np.mean(senss), 3)\n",
    "    stdsens = 100*round(np.std(senss), 3)\n",
    "    avgspec = 100*round(np.mean(specs), 3)\n",
    "    stdspec = 100*round(np.std(specs), 3)\n",
    "\n",
    "    print(f'seed={seed} AUC:{avgauc}+-{stdauc} BAC:{avgbac}+-{stdbac} Sens:{avgsens}+-{stdsens} Spec:{avgspec}+-{stdspec}')\n"
   ]
  },
  {
   "cell_type": "markdown",
   "metadata": {},
   "source": [
    "## Ensembling"
   ]
  },
  {
   "cell_type": "code",
   "execution_count": 13,
   "metadata": {},
   "outputs": [],
   "source": [
    "df_test_ens = pd.DataFrame()\n",
    "df_test_ens['y'] = df_test.loc[df_test.seed == seeds[0]].y.values\n",
    "df_val_ens = pd.DataFrame()\n",
    "df_val_ens['y'] = df_val.loc[df_val.seed == seeds[0]].y.values\n",
    "\n",
    "for seed in seeds:\n",
    "    df_test_ens[f'scores_{seed}'] = df_test.loc[df_test.seed == seed].prob_1.values\n",
    "    df_val_ens[f'scores_{seed}'] = df_val.loc[df_val.seed == seed].prob_1.values"
   ]
  },
  {
   "cell_type": "code",
   "execution_count": 15,
   "metadata": {},
   "outputs": [],
   "source": [
    "df_test_ens['avg_prob_1'] = df_test_ens[['scores_'+str(seed) for seed in seeds]].mean(axis=1)\n",
    "df_val_ens['avg_prob_1'] = df_val_ens[['scores_'+str(seed) for seed in seeds]].mean(axis=1)"
   ]
  },
  {
   "cell_type": "code",
   "execution_count": 16,
   "metadata": {},
   "outputs": [
    {
     "data": {
      "text/html": [
       "<div>\n",
       "<style scoped>\n",
       "    .dataframe tbody tr th:only-of-type {\n",
       "        vertical-align: middle;\n",
       "    }\n",
       "\n",
       "    .dataframe tbody tr th {\n",
       "        vertical-align: top;\n",
       "    }\n",
       "\n",
       "    .dataframe thead th {\n",
       "        text-align: right;\n",
       "    }\n",
       "</style>\n",
       "<table border=\"1\" class=\"dataframe\">\n",
       "  <thead>\n",
       "    <tr style=\"text-align: right;\">\n",
       "      <th></th>\n",
       "      <th>y</th>\n",
       "      <th>scores_881</th>\n",
       "      <th>scores_292</th>\n",
       "      <th>scores_602</th>\n",
       "      <th>scores_659</th>\n",
       "      <th>scores_42</th>\n",
       "      <th>scores_81</th>\n",
       "      <th>scores_126</th>\n",
       "      <th>scores_321</th>\n",
       "      <th>scores_5</th>\n",
       "      <th>scores_512</th>\n",
       "      <th>avg_prob_1</th>\n",
       "    </tr>\n",
       "  </thead>\n",
       "  <tbody>\n",
       "    <tr>\n",
       "      <th>0</th>\n",
       "      <td>0</td>\n",
       "      <td>0.007677</td>\n",
       "      <td>0.003914</td>\n",
       "      <td>0.985640</td>\n",
       "      <td>0.283475</td>\n",
       "      <td>0.577574</td>\n",
       "      <td>0.526052</td>\n",
       "      <td>0.493447</td>\n",
       "      <td>0.453119</td>\n",
       "      <td>0.421314</td>\n",
       "      <td>0.311462</td>\n",
       "      <td>0.406368</td>\n",
       "    </tr>\n",
       "    <tr>\n",
       "      <th>1</th>\n",
       "      <td>0</td>\n",
       "      <td>0.998409</td>\n",
       "      <td>0.995513</td>\n",
       "      <td>0.905796</td>\n",
       "      <td>0.790973</td>\n",
       "      <td>0.925002</td>\n",
       "      <td>0.807181</td>\n",
       "      <td>0.763063</td>\n",
       "      <td>0.396683</td>\n",
       "      <td>0.816886</td>\n",
       "      <td>0.666313</td>\n",
       "      <td>0.806582</td>\n",
       "    </tr>\n",
       "    <tr>\n",
       "      <th>2</th>\n",
       "      <td>0</td>\n",
       "      <td>0.001023</td>\n",
       "      <td>0.001376</td>\n",
       "      <td>0.282131</td>\n",
       "      <td>0.326455</td>\n",
       "      <td>0.346587</td>\n",
       "      <td>0.383286</td>\n",
       "      <td>0.040913</td>\n",
       "      <td>0.254893</td>\n",
       "      <td>0.364473</td>\n",
       "      <td>0.176197</td>\n",
       "      <td>0.217733</td>\n",
       "    </tr>\n",
       "    <tr>\n",
       "      <th>3</th>\n",
       "      <td>0</td>\n",
       "      <td>0.842697</td>\n",
       "      <td>0.945319</td>\n",
       "      <td>0.609185</td>\n",
       "      <td>0.434568</td>\n",
       "      <td>0.483600</td>\n",
       "      <td>0.694719</td>\n",
       "      <td>0.551533</td>\n",
       "      <td>0.333807</td>\n",
       "      <td>0.428797</td>\n",
       "      <td>0.454670</td>\n",
       "      <td>0.577890</td>\n",
       "    </tr>\n",
       "    <tr>\n",
       "      <th>4</th>\n",
       "      <td>0</td>\n",
       "      <td>0.002820</td>\n",
       "      <td>0.002208</td>\n",
       "      <td>0.010475</td>\n",
       "      <td>0.321328</td>\n",
       "      <td>0.339357</td>\n",
       "      <td>0.495015</td>\n",
       "      <td>0.098335</td>\n",
       "      <td>0.323215</td>\n",
       "      <td>0.423033</td>\n",
       "      <td>0.514959</td>\n",
       "      <td>0.253075</td>\n",
       "    </tr>\n",
       "  </tbody>\n",
       "</table>\n",
       "</div>"
      ],
      "text/plain": [
       "   y  scores_881  scores_292  scores_602  scores_659  scores_42  scores_81  \\\n",
       "0  0    0.007677    0.003914    0.985640    0.283475   0.577574   0.526052   \n",
       "1  0    0.998409    0.995513    0.905796    0.790973   0.925002   0.807181   \n",
       "2  0    0.001023    0.001376    0.282131    0.326455   0.346587   0.383286   \n",
       "3  0    0.842697    0.945319    0.609185    0.434568   0.483600   0.694719   \n",
       "4  0    0.002820    0.002208    0.010475    0.321328   0.339357   0.495015   \n",
       "\n",
       "   scores_126  scores_321  scores_5  scores_512  avg_prob_1  \n",
       "0    0.493447    0.453119  0.421314    0.311462    0.406368  \n",
       "1    0.763063    0.396683  0.816886    0.666313    0.806582  \n",
       "2    0.040913    0.254893  0.364473    0.176197    0.217733  \n",
       "3    0.551533    0.333807  0.428797    0.454670    0.577890  \n",
       "4    0.098335    0.323215  0.423033    0.514959    0.253075  "
      ]
     },
     "execution_count": 16,
     "metadata": {},
     "output_type": "execute_result"
    }
   ],
   "source": [
    "df_test_ens.head()"
   ]
  },
  {
   "cell_type": "code",
   "execution_count": 17,
   "metadata": {},
   "outputs": [],
   "source": [
    "df_test_ens.to_csv(\"trusworthy_df_test_ens.csv\")"
   ]
  },
  {
   "cell_type": "code",
   "execution_count": 18,
   "metadata": {},
   "outputs": [],
   "source": [
    "df_test_ens['variance'] = df_test_ens[[f'scores_{seed}' for seed in seeds]].var(axis=1)\n",
    "df_test_ens['uncertainty_binned'] = (df_test_ens['variance'] - df_test_ens['variance'].min()) / (df_test_ens['variance'].max() - df_test_ens['variance'].min())"
   ]
  },
  {
   "cell_type": "code",
   "execution_count": 24,
   "metadata": {},
   "outputs": [],
   "source": [
    "df_test_ens['uncertainty_msp'] = df_test_ens.avg_prob_1.apply(lambda x: max(x, 1-x))"
   ]
  },
  {
   "cell_type": "code",
   "execution_count": 25,
   "metadata": {},
   "outputs": [
    {
     "data": {
      "text/plain": [
       "629"
      ]
     },
     "execution_count": 25,
     "metadata": {},
     "output_type": "execute_result"
    }
   ],
   "source": [
    "df_test.patient.nunique()"
   ]
  },
  {
   "cell_type": "code",
   "execution_count": 33,
   "metadata": {},
   "outputs": [],
   "source": [
    "def compute_ensemble_metrics(use_uncertainty=False, threshold=0.5):\n",
    "    aucs = []\n",
    "    baccs = []\n",
    "    sens = []\n",
    "    specs = []\n",
    "    eces = []\n",
    "    briers = []\n",
    "    nlls = []\n",
    "    f1s = []\n",
    "    num_patients = []\n",
    "    num_cores = []\n",
    "    for fold in range(FOLDS):\n",
    "        dfc = df_test[df_test.fold == fold]\n",
    "\n",
    "        preds_by_seed = {}\n",
    "        for seed in seeds:\n",
    "            preds_by_seed[seed] = dfc[dfc.seed == seed].prob_1.values\n",
    "\n",
    "        \n",
    "        ens = pd.DataFrame()\n",
    "        ens['y'] = dfc[dfc.seed == seed].y.values\n",
    "        ens['patient'] = dfc[dfc.seed == seed].patient.values\n",
    "        for seed in seeds:\n",
    "            ens[f'model_{seed}'] = preds_by_seed[seed]\n",
    "        ens['variance'] = ens[[f'model_{seed}' for seed in seeds]].var(axis=1)\n",
    "        ens['uncertainty'] = (ens.variance - df_test_ens['variance'].min()) / (ens.variance.max() - ens.variance.min())\n",
    "        ens['avg_prob_1'] = ens[[f'model_{seed}' for seed in seeds]].mean(axis=1)\n",
    "\n",
    "        dfc_val = df_val[df_val.fold == fold]\n",
    "        ens_val = pd.DataFrame()\n",
    "        ens_val['y'] = dfc_val[dfc_val.seed == seed].y.values\n",
    "        for seed in seeds:\n",
    "            ens_val[f'model_{seed}'] = dfc_val[dfc_val.seed == seed].prob_1.values\n",
    "        ens_val['variance'] = ens_val[[f'model_{seed}' for seed in seeds]].var(axis=1)\n",
    "        ens_val['uncertainty'] = ens_val.variance / (ens_val.variance.max() - ens_val.variance.min())\n",
    "        ens_val['avg_prob_1'] = ens_val[[f'model_{seed}' for seed in seeds]].mean(axis=1)\n",
    "\n",
    "        if use_uncertainty:\n",
    "            q = 1 - threshold\n",
    "            df_keep = df_test_ens[df_test_ens.uncertainty_msp <= np.quantile(df_test_ens.uncertainty_msp, q)]\n",
    "            baccs.append(balanced_accuracy_score(df_keep.y, df_keep.avg_prob_1.round()))\n",
    "        else:\n",
    "            baccs.append(balanced_accuracy_score(ens.y, ens.avg_prob_1.round()))\n",
    "\n",
    "        # Calculate AUC\n",
    "        try:\n",
    "            aucs.append(roc_auc_score(ens.y, ens.avg_prob_1))\n",
    "        except:\n",
    "            aucs.append(0)\n",
    "            print('AUC error')\n",
    "\n",
    "        # Calculate Balanced Accuracy\n",
    "        \n",
    "\n",
    "        # Calculate Sensitivity\n",
    "        sens.append(recall_score(ens.y, ens.avg_prob_1.round()))\n",
    "\n",
    "        # Calculate Specificity\n",
    "        specs.append(recall_score(ens.y, ens.avg_prob_1.round(), pos_label=0))\n",
    "\n",
    "        # Calculate F1\n",
    "        f1s.append(f1_score(ens.y, ens.avg_prob_1.round()))\n",
    "\n",
    "        # Number of patients\n",
    "        num_patients.append(ens.patient.nunique())\n",
    "\n",
    "        # Number of cores\n",
    "        num_cores.append(ens.shape[0])\n",
    "\n",
    "    # print AUC +- std # BACC +- std Sen +- std Spec +- std\n",
    "\n",
    "    if not use_uncertainty:\n",
    "        print('AUROC:', 100*round(np.mean(aucs), 3), '+-', 100*round(np.std(aucs), 3))\n",
    "        print('B.Acc:', 100*round(np.mean(baccs),3), '+-', 100*round(np.std(baccs),3))\n",
    "        print('Sens.:', 100*round(np.mean(sens),3), '+-', 100*round(np.std(sens),3))\n",
    "        print('Spec.:', 100*round(np.mean(specs),3), '+-', 100*round(np.std(specs),3))\n",
    "\n",
    "    return round(np.mean(aucs), 3), round(np.mean(baccs),3), sum(num_patients), sum(num_cores)\n",
    "    "
   ]
  },
  {
   "cell_type": "code",
   "execution_count": 34,
   "metadata": {},
   "outputs": [
    {
     "name": "stdout",
     "output_type": "stream",
     "text": [
      "AUROC: 79.9 +- 1.4000000000000001\n",
      "B.Acc: 71.5 +- 0.7000000000000001\n",
      "Sens.: 71.6 +- 8.0\n",
      "Spec.: 71.3 +- 6.800000000000001\n"
     ]
    },
    {
     "data": {
      "text/plain": [
       "(0.799, 0.715, 629, 5060)"
      ]
     },
     "execution_count": 34,
     "metadata": {},
     "output_type": "execute_result"
    }
   ],
   "source": [
    "compute_ensemble_metrics(use_uncertainty=False)"
   ]
  },
  {
   "cell_type": "code",
   "execution_count": 35,
   "metadata": {},
   "outputs": [],
   "source": [
    "df_test_ens['uncertainty_msp'] = df_test_ens.apply(lambda x: 1 - max(x.avg_prob_1, 1-x.avg_prob_1), axis=1)"
   ]
  },
  {
   "cell_type": "code",
   "execution_count": 36,
   "metadata": {},
   "outputs": [
    {
     "name": "stderr",
     "output_type": "stream",
     "text": [
      "/Users/harma/opt/anaconda3/lib/python3.8/site-packages/sklearn/metrics/_classification.py:1221: UndefinedMetricWarning: Recall is ill-defined and being set to 0.0 due to no true samples. Use `zero_division` parameter to control this behavior.\n",
      "  _warn_prf(average, modifier, msg_start, len(result))\n"
     ]
    },
    {
     "name": "stdout",
     "output_type": "stream",
     "text": [
      "Threshold: 0.9\n",
      "\tPatients: 208 AUROC: 87.5 Sens: 65.3 Spec: 98.2 B.Acc: 91.7 \n",
      "Threshold: 0.8\n",
      "\tPatients: 341 AUROC: 90.5 Sens: 88.8 Spec: 93.30000000000001 B.Acc: 91.0 \n",
      "Threshold: 0.7\n",
      "\tPatients: 461 AUROC: 90.7 Sens: 86.8 Spec: 88.8 B.Acc: 87.8 \n",
      "Threshold: 0.6\n",
      "\tPatients: 526 AUROC: 88.5 Sens: 83.39999999999999 Spec: 86.2 B.Acc: 84.8 \n",
      "Threshold: 0.5\n",
      "\tPatients: 574 AUROC: 86.8 Sens: 81.89999999999999 Spec: 82.69999999999999 B.Acc: 82.3 \n",
      "Threshold: 0.4\n",
      "\tPatients: 597 AUROC: 85.5 Sens: 77.7 Spec: 80.2 B.Acc: 78.9 \n",
      "Threshold: 0.29999999999999993\n",
      "\tPatients: 609 AUROC: 83.8 Sens: 77.5 Spec: 77.9 B.Acc: 77.7 \n",
      "Threshold: 0.19999999999999996\n",
      "\tPatients: 618 AUROC: 82.39999999999999 Sens: 76.1 Spec: 75.2 B.Acc: 75.6 \n",
      "Threshold: 0.09999999999999998\n",
      "\tPatients: 623 AUROC: 81.2 Sens: 74.3 Spec: 73.1 B.Acc: 73.7 \n",
      "Threshold: 0.0\n",
      "\tPatients: 629 AUROC: 79.9 Sens: 71.6 Spec: 71.3 B.Acc: 71.5 \n",
      "\n",
      "[0.12240151258252109, 0.08006286131052082, 0.050108977000517446, 0.039304707888246075, 0.03036672779604978, 0.02746286432476412, 0.022321199976449567, 0.01722992312597306, 0.010293299901282638, 0.006554725004118175]\n"
     ]
    }
   ],
   "source": [
    "seed_preds = {}\n",
    "for seed in seeds:\n",
    "    seed_preds[seed] = df_test[df_test.seed == seed].prob_1.values\n",
    "\n",
    "df2cp = pd.DataFrame()\n",
    "for seed in seeds:\n",
    "    df2cp[f'model_{seed}'] = seed_preds[seed]\n",
    "df2cp['fold'] = df_test[df_test.seed == seed].fold.values\n",
    "df2cp['y'] = df_test[df_test.seed == seed].y.values\n",
    "df2cp['patient'] = df_test[df_test.seed == seed].patient.values\n",
    "df2cp['avg_prob_1'] = df2cp[[f'model_{seed}' for seed in seeds]].mean(axis=1)\n",
    "df2cp['variance'] = df2cp[[f'model_{seed}' for seed in seeds]].var(axis=1)\n",
    "df2cp['uncertainty_msp'] = df2cp.apply(lambda x: 1 - max(x.avg_prob_1, 1-x.avg_prob_1), axis=1)\n",
    "\n",
    "\n",
    "_tmp_stds = []\n",
    "for q in np.arange(0.1, 1.1, 0.1):\n",
    "    df_keep = df2cp[df2cp.uncertainty_msp <= np.quantile(df_test_ens.uncertainty_msp, q)]\n",
    "    accs = []\n",
    "    aucs = []\n",
    "    sens = []\n",
    "    spec = []\n",
    "    patients = []\n",
    "    for fold in range(FOLDS):\n",
    "        df3cp = df_keep[df_keep.fold == fold]\n",
    "        accs.append(balanced_accuracy_score(df3cp.y, df3cp.avg_prob_1.round()))\n",
    "        sens.append(recall_score(df3cp.y, df3cp.avg_prob_1.round()))\n",
    "        spec.append(recall_score(df3cp.y, df3cp.avg_prob_1.round(), pos_label=0))\n",
    "        try:\n",
    "            aucs.append(roc_auc_score(df3cp.y, df3cp.avg_prob_1))\n",
    "        except:\n",
    "            pass\n",
    "        patients.append(df3cp.patient.nunique())\n",
    "    _tmp_stds.append(np.std(accs))\n",
    "    print('Threshold:', 1-q)\n",
    "    print(f'\\tPatients: {sum(patients)} AUROC: {100*round(np.mean(aucs), 3)} Sens: {100*round(np.mean(sens), 3)} Spec: {100*round(np.mean(spec), 3)} B.Acc: {100*round(np.mean(accs),3)} ')\n",
    "\n",
    "print()\n",
    "print(_tmp_stds)"
   ]
  },
  {
   "cell_type": "code",
   "execution_count": null,
   "metadata": {},
   "outputs": [],
   "source": [
    "[0.701, 0.716, 0.738, 0.757, 0.77, 0.787, 0.798, 0.797, 0.812, 0.861]"
   ]
  },
  {
   "cell_type": "code",
   "execution_count": null,
   "metadata": {},
   "outputs": [],
   "source": [
    "[71.5, 73.7, 75.6, 77.7, 78.9, 82.3, 84.8, 87.8, 91, 91.7]"
   ]
  },
  {
   "cell_type": "code",
   "execution_count": null,
   "metadata": {},
   "outputs": [],
   "source": [
    "_tmp_b_accs = []\n",
    "for q in np.arange(0.1, 1.1, 0.1):\n",
    "    print(q, np.quantile(df_test_ens.uncertainty_msp, q))\n",
    "    df_keep = df_test_ens[df_test_ens.uncertainty_msp <= np.quantile(df_test_ens.uncertainty_msp, q)]\n",
    "    _tmp_b_accs.append(balanced_accuracy_score(df_keep.y, df_keep.avg_prob_1.round()))\n",
    "\n",
    "plt.plot(1 - np.arange(0.1, 1.1, 0.1), _tmp_b_accs, label='Balanced accuracy', marker='^')\n",
    "print('Balanced accuracy:', _tmp_b_accs)"
   ]
  },
  {
   "cell_type": "code",
   "execution_count": null,
   "metadata": {},
   "outputs": [],
   "source": [
    "df_test[df_test.fold == fold][df_test.seed == 5]"
   ]
  },
  {
   "cell_type": "code",
   "execution_count": null,
   "metadata": {},
   "outputs": [],
   "source": [
    "folds = {\n",
    "    0: pd.DataFrame(),\n",
    "    1: pd.DataFrame(),\n",
    "    2: pd.DataFrame(),\n",
    "    3: pd.DataFrame(),\n",
    "    4: pd.DataFrame()\n",
    "}\n",
    "\n",
    "for fold in range(FOLDS):\n",
    "    dfc = df_test[df_test.fold == fold]\n",
    "\n",
    "    for seed in seeds:\n",
    "        folds[fold][f'model_{seed}'] = dfc[dfc.seed == seed].prob_1.values\n",
    "    folds[fold]['y'] = dfc[dfc.seed == seed].y.values\n",
    "\n",
    "    folds[fold]['avg_prob_1'] = folds[fold][[f'model_{seed}' for seed in seeds]].mean(axis=1)\n",
    "\n",
    "for fold in range(FOLDS):\n",
    "    auc = roc_auc_score(folds[fold].y, folds[fold].avg_prob_1)\n",
    "    bacc = balanced_accuracy_score(folds[fold].y, folds[fold].avg_prob_1.round())\n",
    "\n",
    "    print(f'Fold {fold} AUC: {auc} BACC: {bacc}')"
   ]
  },
  {
   "cell_type": "code",
   "execution_count": null,
   "metadata": {},
   "outputs": [],
   "source": [
    "from sklearn.metrics import roc_auc_score, balanced_accuracy_score, recall_score, precision_score, f1_score\n",
    "\n",
    "aucs = []\n",
    "balanced_accs = []\n",
    "remaining_samples = []\n",
    "remaining_benign_samples = []\n",
    "remaining_cancer_samples = []\n",
    "threshes = []\n",
    "for i in range(1, 11):\n",
    "    thresh = i/10\n",
    "    balanced_acc, aucs, df_remain = compute_consensus_metrics(use_uncertainty=True, threshold=thresh)\n",
    "    balanced_accs.append(balanced_acc)\n",
    "    threshes.append(thresh)\n",
    "    remaining_samples.append(df_remain.shape[0])\n",
    "    remaining_benign_samples.append(df_remain[df_remain.y == 0].shape[0])\n",
    "    remaining_cancer_samples.append(df_remain[df_remain.y == 1].shape[0])\n",
    "\n",
    "threshes = threshes[::-1]\n"
   ]
  },
  {
   "cell_type": "code",
   "execution_count": 38,
   "metadata": {},
   "outputs": [
    {
     "name": "stdout",
     "output_type": "stream",
     "text": [
      "0.7084942084942085\n",
      "0.549853797\n",
      "0.4632320563628357\n"
     ]
    },
    {
     "data": {
      "text/plain": [
       "<Figure size 432x288 with 0 Axes>"
      ]
     },
     "metadata": {},
     "output_type": "display_data"
    },
    {
     "data": {
      "image/png": "[encoded data removed]",
      "text/plain": [
       "<Figure size 432x288 with 1 Axes>"
      ]
     },
     "metadata": {
      "needs_background": "light"
     },
     "output_type": "display_data"
    }
   ],
   "source": [
    "from sklearn.metrics import roc_curve, recall_score\n",
    "\n",
    "print(recall_score(df_test_ens.y.values.squeeze(), df_test_ens.avg_prob_1.values.squeeze() > 0.5))\n",
    "\n",
    "fpr, tpr, t = roc_curve(df_test_ens.y.values.squeeze(), df_test_ens.avg_prob_1.values.squeeze())\n",
    "import matplotlib.pyplot as plt\n",
    "\n",
    "i = np.abs(t - 0.5).argmin()\n",
    "\n",
    "target_tpr = 0.88\n",
    "i = np.abs(tpr - target_tpr).argmin()\n",
    "fpr_at_target_tpr = fpr[i]\n",
    "\n",
    "best_threshold = t[np.argmax(tpr - fpr)]\n",
    "print(best_threshold)\n",
    "\n",
    "plt.clf()\n",
    "plt.figure(figsize=(6, 4))\n",
    "\n",
    "#sns.set_theme(style=\"whitegrid\")\n",
    "\n",
    "sns.lineplot(x=fpr, y=tpr, label='ROC', color='blue', linewidth=2)\n",
    "plt.xlabel('False Positive Rate (FPR)')\n",
    "plt.ylabel('True Positive Rate (TPR)')\n",
    "plt.axhline(target_tpr, color='green', linestyle='--', label='Target TPR', linewidth=1)\n",
    "plt.axvline(fpr_at_target_tpr, color='black', linestyle='--', label='FPR at target TPR', linewidth=1)\n",
    "plt.scatter(fpr_at_target_tpr, target_tpr, color='red', marker='x', linewidth=1)\n",
    "plt.legend(bbox_to_anchor=(1, 0), loc='lower right', ncol=1)\n",
    "print(1- fpr_at_target_tpr)\n",
    "\n",
    "plt.savefig('figs/3ab_roc.pdf', bbox_inches='tight')"
   ]
  }
 ],
 "metadata": {
  "kernelspec": {
   "display_name": "Python 3",
   "language": "python",
   "name": "python3"
  },
  "language_info": {
   "codemirror_mode": {
    "name": "ipython",
    "version": 3
   },
   "file_extension": ".py",
   "mimetype": "text/x-python",
   "name": "python",
   "nbconvert_exporter": "python",
   "pygments_lexer": "ipython3",
   "version": "3.8.3"
  }
 },
 "nbformat": 4,
 "nbformat_minor": 4
}
